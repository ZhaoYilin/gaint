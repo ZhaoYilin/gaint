{
 "cells": [
  {
   "cell_type": "markdown",
   "id": "a2fdda00",
   "metadata": {},
   "source": [
    "# Introduction\n",
    "\n",
    "To begin a quantum chemistry calculation, first build the Hamiltonian of a system. In terms of second quantization operators, a time-independent non-relativistic Hamiltonian gives:\n",
    "\\begin{equation}\n",
    "H = - \\sum_{ij} t_{ij}\\hat{c}^{\\dagger}_{i}\\hat{c}_{j} + \\frac{1}{2} \\sum_{ijkl}\n",
    "V_{ijkl}\\hat{c}^{\\dagger}_{i}\\hat{c}^{\\dagger}_{k}\\hat{c}_{l}\\hat{c}_{j}\n",
    "\\end{equation}\n",
    "\n",
    "There are many integration schemes including McMurchie–Davidson, Obara–Saika and Rys schemes. Here Obara-Saika and McMurchie–Davidson scheme is shown in this note."
   ]
  },
  {
   "cell_type": "code",
   "execution_count": null,
   "id": "47a4873b",
   "metadata": {},
   "outputs": [],
   "source": []
  }
 ],
 "metadata": {
  "kernelspec": {
   "display_name": "Python 3 (ipykernel)",
   "language": "python",
   "name": "python3"
  },
  "language_info": {
   "codemirror_mode": {
    "name": "ipython",
    "version": 3
   },
   "file_extension": ".py",
   "mimetype": "text/x-python",
   "name": "python",
   "nbconvert_exporter": "python",
   "pygments_lexer": "ipython3",
   "version": "3.10.6"
  }
 },
 "nbformat": 4,
 "nbformat_minor": 5
}
